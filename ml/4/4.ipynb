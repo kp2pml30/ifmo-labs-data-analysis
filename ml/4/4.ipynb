{
 "cells": [
  {
   "cell_type": "code",
   "execution_count": 11,
   "id": "657aff1d",
   "metadata": {},
   "outputs": [],
   "source": [
    "import os\n",
    "import re\n",
    "import numpy as np\n",
    "import sklearn.metrics"
   ]
  },
  {
   "cell_type": "markdown",
   "id": "4a15b54e",
   "metadata": {},
   "source": [
    "В предыдущей лабораторной был вопрос про то почему точность плохая\n",
    "\n",
    "Моя \"неверная\" догадка была что дело в f-мере\n",
    "\n",
    "`f1_score` из `sklearn` выдает на `np.zeros` точность $0$, а на `np.ones` точность $0.7$, если не передать `average`"
   ]
  },
  {
   "cell_type": "code",
   "execution_count": 12,
   "id": "a1ce2044",
   "metadata": {},
   "outputs": [],
   "source": [
    "def calcFScore(a, b):\n",
    "    return sklearn.metrics.f1_score(a, b, average='micro')"
   ]
  },
  {
   "cell_type": "code",
   "execution_count": 13,
   "id": "c719c54d",
   "metadata": {},
   "outputs": [],
   "source": [
    "def numsList(s):\n",
    "    return np.array([int(i) for i in s.split()], dtype=np.longlong)\n",
    "\n",
    "def thrower(s):\n",
    "    raise Exception(s)\n",
    "\n",
    "def loadFile(dir, file):\n",
    "    with open(dir + file, \"r\") as f:\n",
    "        cont = f.read()\n",
    "    cont = cont.split('\\n')\n",
    "    cont = list(filter(lambda x: x.strip() != \"\", cont))\n",
    "    assert len(cont) == 2\n",
    "    return \\\n",
    "        ( 0 if \"spmsg\" in file else 1 if \"legit\" in file else thrower(\"Wrong \" + file)\n",
    "        , numsList(cont[0][9:]) + 1\n",
    "        , numsList(cont[1]) + 1\n",
    "        )\n",
    "        \n",
    "\n",
    "folds = []\n",
    "for i in range(1, 11):\n",
    "    dir = './messages/part' + str(i) + '/'\n",
    "    folds.append([])\n",
    "    for file in os.listdir(dir):\n",
    "        folds[-1].append(loadFile(dir, file))"
   ]
  },
  {
   "cell_type": "code",
   "execution_count": 14,
   "id": "e0e98c8f",
   "metadata": {},
   "outputs": [
    {
     "name": "stdout",
     "output_type": "stream",
     "text": [
      "[(0, array([14487], dtype=int64), array([14487,    81,   197,    65,  1897,  8963, 14329,  2131, 16503,\n",
      "        9212,    85,   197,  4340,   181, 16927, 18248, 18958, 14404,\n",
      "        4054, 23477,  2131, 16503,   753, 23267, 17349,  8858,  1992,\n",
      "       16503, 16927,    85,  1813, 17346, 21367, 15821, 18999,    85,\n",
      "          85,    85,   766,  4785,    85,  1813, 15692,    81, 18949,\n",
      "         197,  1592, 16086, 14339, 19055, 10249,    85,   119,    71],\n",
      "      dtype=int64)), (0, array([12092, 16399, 21904,  1409,    63,  2548, 10547,  3296,  2411],\n",
      "      dtype=int64), array([   87,    87,    87, ..., 11677, 13521,    85], dtype=int64)), (0, array([2057,  119, 4054,   48], dtype=int64), array([19072,    81,  2177, 13473,  9670,   181, 22482,  6309,    62,\n",
      "        4054,  5160,  2131, 16503, 11318, 23227, 23423, 18248,  1836,\n",
      "       16503,  5332,    85,  8963, 13887, 16503, 16862,  2131, 14329,\n",
      "         131,  4054,  5160,    85,  1969,  8240,    85, 17346, 14329,\n",
      "       21991, 17346, 16251,    48,    48,    48,  6307,   119,    87,\n",
      "          87, 17213,    85, 13882,    85, 13831,    87,   181,    87,\n",
      "       22728,    87,  1813, 17346, 13473, 15692, 21912,  2131,  5160,\n",
      "          81, 16734, 15965, 15090, 18248,  1614,   119,  6307,   119,\n",
      "          87,    87, 17213,    85,  8276,    85, 13831,    87, 21756,\n",
      "          87, 21055,    87, 12374,    87,  4340, 14431,    85, 17172,\n",
      "          85], dtype=int64))]\n"
     ]
    }
   ],
   "source": [
    "print(folds[0][:3])"
   ]
  },
  {
   "cell_type": "code",
   "execution_count": 15,
   "id": "a9dd3e52",
   "metadata": {},
   "outputs": [
    {
     "name": "stdout",
     "output_type": "stream",
     "text": [
      "any\t 846167\n",
      "diff\t 24728\n",
      "ratio\t 0.02922354570669856\n",
      "min\t 1\n",
      "max\t 24748\n",
      "rnded 32768\n"
     ]
    }
   ],
   "source": [
    "minWord = 10**18\n",
    "maxWord = -10**18\n",
    "allWords = set()\n",
    "justWords = 0\n",
    "for f in folds:\n",
    "    for n in f:\n",
    "        justWords += len(n[1])\n",
    "        justWords += len(n[2])\n",
    "        minWord = n[2].min(initial=n[1].min(initial=minWord))\n",
    "        maxWord = n[2].max(initial=n[1].max(initial=maxWord))\n",
    "        allWords.update(n[1])\n",
    "        allWords.update(n[2])\n",
    "print('any\\t', justWords)\n",
    "print('diff\\t', len(allWords))\n",
    "print('ratio\\t', len(allWords)/justWords)\n",
    "print('min\\t', minWord)\n",
    "print('max\\t', maxWord)\n",
    "assert minWord > 0\n",
    "assert maxWord < 2**16\n",
    "maxWordRounded = maxWord - 1\n",
    "maxWordRounded |= maxWordRounded >> 1\n",
    "maxWordRounded |= maxWordRounded >> 2\n",
    "maxWordRounded |= maxWordRounded >> 4\n",
    "maxWordRounded |= maxWordRounded >> 8\n",
    "maxWordRounded |= maxWordRounded >> 16\n",
    "maxWordRounded += 1\n",
    "print('rnded', maxWordRounded)"
   ]
  },
  {
   "cell_type": "code",
   "execution_count": 16,
   "id": "e3970f72",
   "metadata": {},
   "outputs": [],
   "source": [
    "def calcAnagramms(s, n):\n",
    "    mul = 1\n",
    "    prev = s\n",
    "    res = [s]\n",
    "    for i in range(1, n):\n",
    "        mul *= maxWordRounded\n",
    "        prev = prev + np.roll(s, i) * mul\n",
    "        res.append(prev)\n",
    "    return np.concatenate(res)"
   ]
  },
  {
   "cell_type": "code",
   "execution_count": 17,
   "id": "90e6efaa",
   "metadata": {},
   "outputs": [],
   "source": [
    "class Estim:\n",
    "    def __init__(self, ngrams):\n",
    "        self.ngrams = ngrams\n",
    "    def predict(self, xs, lmb=1):\n",
    "        return np.fromiter(map(lambda x: self.predict1(x, lmb), xs), int)"
   ]
  },
  {
   "cell_type": "code",
   "execution_count": 18,
   "id": "2234c202",
   "metadata": {},
   "outputs": [],
   "source": [
    "def EstimPrepMsg(self, s, msg):\n",
    "    for i in range(2):\n",
    "        s.update(calcAnagramms(msg[i], self.ngrams))\n",
    "    return s\n",
    "Estim.prepMsg = EstimPrepMsg"
   ]
  },
  {
   "cell_type": "code",
   "execution_count": 21,
   "id": "8ef55c3f",
   "metadata": {},
   "outputs": [],
   "source": [
    "def EstimTrain(self, folds, display=False):\n",
    "    self.folds = folds\n",
    "    foldWords = []\n",
    "    allFeatures = set()\n",
    "    for f in folds:\n",
    "        cur = set()\n",
    "        for n in f:\n",
    "            self.prepMsg(cur, n[1:])\n",
    "        allFeatures.update(cur)\n",
    "        foldWords.append((n[0], np.fromiter(cur, np.longlong)))\n",
    "    self.allFeatures = np.fromiter(allFeatures, np.longlong)\n",
    "    self.foldWords = foldWords\n",
    "    if display:\n",
    "        print('n\\t', self.ngrams)\n",
    "        print('in 1\\t', foldWords[0][1].shape[0])\n",
    "        print('all\\t', len(allFeatures))\n",
    "    countSpam = 0\n",
    "    countLegi = 0\n",
    "    probabSpam = {}\n",
    "    probabLegi = {}\n",
    "    for i in self.allFeatures:\n",
    "        probabSpam[i] = 0\n",
    "        probabLegi[i] = 0\n",
    "    for f in self.folds:\n",
    "        for n in f:\n",
    "            if n[0] == 0:\n",
    "                countSpam += 1\n",
    "            elif n[0] == 1:\n",
    "                countLegi += 1\n",
    "            else:\n",
    "                raise Exception(n[0])\n",
    "    for f in self.folds:\n",
    "        for n in f:\n",
    "            cr = probabSpam if n[0] == 0 else probabLegi if n[0] == 1 else thrower(str(n[0]))\n",
    "            for e in n[1]:\n",
    "                cr[e] += 1\n",
    "    self.probabSpamPre = probabSpam\n",
    "    self.probabLegiPre = probabLegi\n",
    "    self.countSpam = countSpam\n",
    "    self.countLegi = countLegi\n",
    "\n",
    "def EstimCalcProbab(self, alpha):\n",
    "    # Q = 2\n",
    "    Q = len(self.allFeatures)\n",
    "    countSpam = self.countSpam\n",
    "    countLegi = self.countLegi\n",
    "    self.probabSpam = {k: (v + alpha) / (countSpam + alpha * Q) for k, v in self.probabSpamPre.items()}\n",
    "    self.probabLegi = {k: (v + alpha) / (countLegi + alpha * Q) for k, v in self.probabLegiPre.items()}\n",
    "    allAbsentMult = 1\n",
    "    probabSpam = self.probabSpam\n",
    "    probabLegi = self.probabLegi\n",
    "    for word in self.allFeatures:\n",
    "        sp = probabSpam[word]\n",
    "        le = probabLegi[word]\n",
    "        if sp == 1 or le == 1:\n",
    "            continue\n",
    "        allAbsentMult *= (1 - sp) / (1 - le)\n",
    "    self.allAbsentMult = allAbsentMult\n",
    "Estim.calcProbab = EstimCalcProbab\n",
    "Estim.train = EstimTrain"
   ]
  },
  {
   "cell_type": "code",
   "execution_count": 22,
   "id": "5d206f7e",
   "metadata": {},
   "outputs": [
    {
     "name": "stdout",
     "output_type": "stream",
     "text": [
      "n\t 3\n",
      "in 1\t 117211\n",
      "all\t 551293\n"
     ]
    }
   ],
   "source": [
    "e = Estim(3)\n",
    "e.train(folds, display=True)\n",
    "e.calcProbab(0)"
   ]
  },
  {
   "cell_type": "code",
   "execution_count": 23,
   "id": "833b9d11",
   "metadata": {},
   "outputs": [],
   "source": [
    "def EstimPredict1V(self, msg, lmb):\n",
    "    msg = self.prepMsg(set(), msg)\n",
    "    res = lmb * self.countSpam / self.countLegi * self.allAbsentMult # isSpam / isLegit = p(spam)/p(legit)\n",
    "    for k in msg:\n",
    "        sp = self.probabSpam.get(k, 0)\n",
    "        le = self.probabLegi.get(k, 0)\n",
    "        if sp == 0 or le == 0 or sp == 1 or le == 1:\n",
    "            continue\n",
    "        res *= (1 - le) / (1 - sp) * sp / le\n",
    "    return res\n",
    "def EstimPredict1(self, msg, lmb):\n",
    "    return 0 if EstimPredict1V(self, msg, lmb) > 1 else 1\n",
    "Estim.predict1 = EstimPredict1"
   ]
  },
  {
   "cell_type": "code",
   "execution_count": 24,
   "id": "989c49e4",
   "metadata": {},
   "outputs": [],
   "source": [
    "tryN = [1, 2, 3]\n",
    "tryAlpha = [0, 0.1, 100, 1, 10, 0.001, 0.0001, 10**6]\n",
    "lele = len(folds)\n",
    "# lele = 2"
   ]
  },
  {
   "cell_type": "code",
   "execution_count": 25,
   "id": "93b7f4d2",
   "metadata": {},
   "outputs": [],
   "source": [
    "qresults = []\n",
    "def proc(train, testX, testY):\n",
    "    results = {}\n",
    "    for ngram in tryN:\n",
    "        print('\\tn =', ngram)\n",
    "        est = Estim(ngram)\n",
    "        est.train(train)\n",
    "        print('\\t\\ta', end='')\n",
    "        for alpha in tryAlpha:\n",
    "            print('\\t' + str(alpha), end='')\n",
    "            est.calcProbab(alpha)\n",
    "            predY = est.predict(testX)\n",
    "            score = calcFScore(testY, predY)\n",
    "            results[(ngram, alpha)] = score\n",
    "        print()\n",
    "    # qresults.put(results)\n",
    "    qresults.append(results)"
   ]
  },
  {
   "cell_type": "code",
   "execution_count": 26,
   "id": "64929443",
   "metadata": {
    "scrolled": false
   },
   "outputs": [
    {
     "name": "stdout",
     "output_type": "stream",
     "text": [
      "fold  0\n",
      "\tn = 1\n",
      "\t\ta\t0\t0.1\t100\t1\t10\t0.001\t0.0001\t1000000\n",
      "\tn = 2\n",
      "\t\ta\t0\t0.1\t100\t1\t10\t0.001\t0.0001\t1000000\n",
      "\tn = 3\n",
      "\t\ta\t0\t0.1\t100\t1\t10\t0.001\t0.0001\t1000000\n",
      "fold  1\n",
      "\tn = 1\n",
      "\t\ta\t0\t0.1\t100\t1\t10\t0.001\t0.0001\t1000000\n",
      "\tn = 2\n",
      "\t\ta\t0\t0.1\t100\t1\t10\t0.001\t0.0001\t1000000\n",
      "\tn = 3\n",
      "\t\ta\t0\t0.1\t100\t1\t10\t0.001\t0.0001\t1000000\n",
      "fold  2\n",
      "\tn = 1\n",
      "\t\ta\t0\t0.1\t100\t1\t10\t0.001\t0.0001\t1000000\n",
      "\tn = 2\n",
      "\t\ta\t0\t0.1\t100\t1\t10\t0.001\t0.0001\t1000000\n",
      "\tn = 3\n",
      "\t\ta\t0\t0.1\t100\t1\t10\t0.001\t0.0001\t1000000\n",
      "fold  3\n",
      "\tn = 1\n",
      "\t\ta\t0\t0.1\t100\t1\t10\t0.001\t0.0001\t1000000\n",
      "\tn = 2\n",
      "\t\ta\t0\t0.1\t100\t1\t10\t0.001\t0.0001\t1000000\n",
      "\tn = 3\n",
      "\t\ta\t0\t0.1\t100\t1\t10\t0.001\t0.0001\t1000000\n",
      "fold  4\n",
      "\tn = 1\n",
      "\t\ta\t0\t0.1\t100\t1\t10\t0.001\t0.0001\t1000000\n",
      "\tn = 2\n",
      "\t\ta\t0\t0.1\t100\t1\t10\t0.001\t0.0001\t1000000\n",
      "\tn = 3\n",
      "\t\ta\t0\t0.1\t100\t1\t10\t0.001\t0.0001\t1000000\n",
      "fold  5\n",
      "\tn = 1\n",
      "\t\ta\t0\t0.1\t100\t1\t10\t0.001\t0.0001\t1000000\n",
      "\tn = 2\n",
      "\t\ta\t0\t0.1\t100\t1\t10\t0.001\t0.0001\t1000000\n",
      "\tn = 3\n",
      "\t\ta\t0\t0.1\t100\t1\t10\t0.001\t0.0001\t1000000\n",
      "fold  6\n",
      "\tn = 1\n",
      "\t\ta\t0\t0.1\t100\t1\t10\t0.001\t0.0001\t1000000\n",
      "\tn = 2\n",
      "\t\ta\t0\t0.1\t100\t1\t10\t0.001\t0.0001\t1000000\n",
      "\tn = 3\n",
      "\t\ta\t0\t0.1\t100\t1\t10\t0.001\t0.0001\t1000000\n",
      "fold  7\n",
      "\tn = 1\n",
      "\t\ta\t0\t0.1\t100\t1\t10\t0.001\t0.0001\t1000000\n",
      "\tn = 2\n",
      "\t\ta\t0\t0.1\t100\t1\t10\t0.001\t0.0001\t1000000\n",
      "\tn = 3\n",
      "\t\ta\t0\t0.1\t100\t1\t10\t0.001\t0.0001\t1000000\n",
      "fold  8\n",
      "\tn = 1\n",
      "\t\ta\t0\t0.1\t100\t1\t10\t0.001\t0.0001\t1000000\n",
      "\tn = 2\n",
      "\t\ta\t0\t0.1\t100\t1\t10\t0.001\t0.0001\t1000000\n",
      "\tn = 3\n",
      "\t\ta\t0\t0.1\t100\t1\t10\t0.001\t0.0001\t1000000\n",
      "fold  9\n",
      "\tn = 1\n",
      "\t\ta\t0\t0.1\t100\t1\t10\t0.001\t0.0001\t1000000\n",
      "\tn = 2\n",
      "\t\ta\t0\t0.1\t100\t1\t10\t0.001\t0.0001\t1000000\n",
      "\tn = 3\n",
      "\t\ta\t0\t0.1\t100\t1\t10\t0.001\t0.0001\t1000000\n",
      "Wall time: 2min 15s\n"
     ]
    }
   ],
   "source": [
    "%%time\n",
    "def setOrAdd(d, dflt, k, v):\n",
    "    d[k] = d.get(k, 0) + v / dflt\n",
    "\n",
    "avg = 0\n",
    "\n",
    "for n in range(lele):\n",
    "    print('fold ', n)\n",
    "    train = folds[:n] + folds[n+1:]\n",
    "    test = folds[n]\n",
    "    testY = np.fromiter(map(lambda x: x[0], test), dtype=int)\n",
    "    testX = [x[1:] for x in test]\n",
    "    proc(train, testX, testY)"
   ]
  },
  {
   "cell_type": "code",
   "execution_count": 27,
   "id": "c825fd63",
   "metadata": {},
   "outputs": [
    {
     "name": "stdout",
     "output_type": "stream",
     "text": [
      "{(1, 0): 0.4990825688073394, (1, 0.1): 0.6779816513761469, (1, 100): 0.8908256880733945, (1, 1): 0.708256880733945, (1, 10): 0.7999999999999999, (1, 0.001): 0.6458715596330274, (1, 0.0001): 0.6568807339449542, (1, 1000000): 0.5596330275229356, (2, 0): 0.4990825688073394, (2, 0.1): 0.691743119266055, (2, 100): 0.8908256880733945, (2, 1): 0.7128440366972478, (2, 10): 0.8009174311926605, (2, 0.001): 0.5779816513761469, (2, 0.0001): 0.5752293577981651, (2, 1000000): 0.5596330275229356, (3, 0): 0.4990825688073394, (3, 0.1): 0.698165137614679, (3, 100): 0.8908256880733945, (3, 1): 0.7146788990825689, (3, 10): 0.8009174311926605, (3, 0.001): 0.5853211009174311, (3, 0.0001): 0.5348623853211009, (3, 1000000): 0.5596330275229356}\n"
     ]
    }
   ],
   "source": [
    "# print(qresults)\n",
    "results = {}\n",
    "for qr in qresults:\n",
    "    for ngram in tryN:\n",
    "        for alpha in tryAlpha:\n",
    "            results[ngram, alpha] = results.get((ngram, alpha), 0) + qr[ngram, alpha] / lele\n",
    "print(results)"
   ]
  },
  {
   "cell_type": "code",
   "execution_count": 28,
   "id": "650dc51a",
   "metadata": {},
   "outputs": [
    {
     "name": "stdout",
     "output_type": "stream",
     "text": [
      "((3, 100), 0.8908256880733945)\n"
     ]
    }
   ],
   "source": [
    "bestModel = sorted(results.items(), key=lambda x: x[1])[-1]\n",
    "print(bestModel)\n",
    "bestModel = bestModel[0]"
   ]
  },
  {
   "cell_type": "code",
   "execution_count": 29,
   "id": "1751a018",
   "metadata": {},
   "outputs": [
    {
     "name": "stdout",
     "output_type": "stream",
     "text": [
      "Wall time: 1.65 s\n"
     ]
    }
   ],
   "source": [
    "%%time\n",
    "train = folds[1:]\n",
    "test = folds[0]\n",
    "testY = np.fromiter(map(lambda x: x[0], test), dtype=int)\n",
    "testX = [x[1:] for x in test]\n",
    "est = Estim(bestModel[0])\n",
    "est.train(train)\n",
    "est.calcProbab(bestModel[1])"
   ]
  },
  {
   "cell_type": "code",
   "execution_count": 39,
   "id": "f7e61b57",
   "metadata": {},
   "outputs": [
    {
     "name": "stdout",
     "output_type": "stream",
     "text": [
      "0.9174311926605505\n",
      "Wall time: 12 s\n"
     ]
    }
   ],
   "source": [
    "%%time\n",
    "nbad = []\n",
    "xs = []\n",
    "accur = []\n",
    "tpr = []\n",
    "fpr = []\n",
    "for i in \\\n",
    "        [0] \\\n",
    "        + list(map(np.exp, range(-6, 5))) \\\n",
    "        + list(map(lambda x: 1 - 10**-x, range(1, 4))) \\\n",
    "        + list(map(lambda x: 1 + 10**-x, range(1, 4))) \\\n",
    "        + list(np.arange(0, 1, 0.03)):\n",
    "    # print(i)\n",
    "    xs.append(i)\n",
    "    predY = est.predict(testX, i)\n",
    "    tp = np.sum((predY == 1) & (testY == 1))\n",
    "    tn = np.sum((predY == 0) & (testY == 0))\n",
    "    fp = np.sum((predY == 1) & (testY == 0))\n",
    "    fn = np.sum((predY == 0) & (testY == 1))\n",
    "    nbad.append(fn)\n",
    "    tpr.append(tp / (tp + fn))\n",
    "    fpr.append(fp / (fp + tn))\n",
    "    accur.append(calcFScore(testY, predY))\n",
    "\n",
    "print(np.max(accur))"
   ]
  },
  {
   "cell_type": "code",
   "execution_count": 31,
   "id": "60327256",
   "metadata": {},
   "outputs": [
    {
     "name": "stdout",
     "output_type": "stream",
     "text": [
      "[(0, 0, 0.5596330275229358), (0.0024787521766663585, 0, 0.5596330275229358), (0.006737946999085467, 0, 0.5596330275229358), (0.01831563888873418, 0, 0.5688073394495413), (0.049787068367863944, 0, 0.6513761467889908), (0.1353352832366127, 1, 0.743119266055046), (0.36787944117144233, 3, 0.8623853211009176), (1.0, 7, 0.9174311926605505), (2.718281828459045, 17, 0.8440366972477065), (7.38905609893065, 27, 0.7522935779816514), (20.085536923187668, 41, 0.6238532110091743), (54.598150033144236, 51, 0.5321100917431193), (0.9, 7, 0.9174311926605505), (0.99, 7, 0.9174311926605505), (0.999, 7, 0.9174311926605505), (1.1, 9, 0.8990825688073395), (1.01, 7, 0.9174311926605505), (1.001, 7, 0.9174311926605505), (0.0, 0, 0.5596330275229358), (0.03, 0, 0.6055045871559633), (0.06, 0, 0.6513761467889908), (0.09, 0, 0.6972477064220184), (0.12, 1, 0.7064220183486238), (0.15, 1, 0.7614678899082569), (0.18, 1, 0.7889908256880734), (0.21, 1, 0.81651376146789), (0.24, 2, 0.8440366972477065), (0.27, 2, 0.8623853211009176), (0.3, 2, 0.8623853211009176), (0.32999999999999996, 2, 0.8623853211009176), (0.36, 3, 0.8532110091743119), (0.39, 3, 0.8623853211009176), (0.42, 4, 0.8623853211009176), (0.44999999999999996, 4, 0.8623853211009176), (0.48, 4, 0.8715596330275229), (0.51, 5, 0.8715596330275229), (0.54, 5, 0.8807339449541285), (0.57, 5, 0.8899082568807339), (0.6, 5, 0.8899082568807339), (0.63, 6, 0.8807339449541285), (0.6599999999999999, 6, 0.8990825688073395), (0.69, 6, 0.8990825688073395), (0.72, 6, 0.8990825688073395), (0.75, 7, 0.908256880733945), (0.78, 7, 0.908256880733945), (0.8099999999999999, 7, 0.908256880733945), (0.84, 7, 0.908256880733945), (0.87, 7, 0.9174311926605505), (0.8999999999999999, 7, 0.9174311926605505), (0.9299999999999999, 7, 0.9174311926605505), (0.96, 7, 0.9174311926605505), (0.99, 7, 0.9174311926605505)]\n"
     ]
    }
   ],
   "source": [
    "aaaa = list(zip(xs, nbad, accur))\n",
    "print(aaaa)"
   ]
  },
  {
   "cell_type": "code",
   "execution_count": 38,
   "id": "ca0631c7",
   "metadata": {},
   "outputs": [],
   "source": [
    "aaaaSorted = sorted(aaaa, key=lambda x: x[0])\n",
    "xs, nbad, accur = list(zip(*aaaaSorted))"
   ]
  },
  {
   "cell_type": "code",
   "execution_count": 33,
   "id": "121596c6",
   "metadata": {},
   "outputs": [],
   "source": [
    "import matplotlib.pyplot as plt\n",
    "plt.style.use('dark_background')"
   ]
  },
  {
   "cell_type": "code",
   "execution_count": 34,
   "id": "aeb866eb",
   "metadata": {},
   "outputs": [
    {
     "data": {
      "image/png": "[encoded data removed]",
      "text/plain": [
       "<Figure size 1080x288 with 1 Axes>"
      ]
     },
     "metadata": {},
     "output_type": "display_data"
    },
    {
     "data": {
      "image/png": "[encoded data removed]",
      "text/plain": [
       "<Figure size 1080x288 with 1 Axes>"
      ]
     },
     "metadata": {},
     "output_type": "display_data"
    }
   ],
   "source": [
    "plt.figure(figsize=(15,4))\n",
    "plt.plot(xs, nbad)\n",
    "plt.xscale('log')\n",
    "plt.xlabel('log(λ)')\n",
    "plt.ylabel('legit_as_spam')\n",
    "plt.show();\n",
    "plt.figure(figsize=(15,4))\n",
    "plt.plot(xs, accur)\n",
    "plt.xscale('log')\n",
    "plt.xlabel('log(λ)')\n",
    "plt.ylabel('accuracy')\n",
    "plt.show();"
   ]
  },
  {
   "cell_type": "code",
   "execution_count": 35,
   "id": "aab56496",
   "metadata": {},
   "outputs": [
    {
     "name": "stdout",
     "output_type": "stream",
     "text": [
      "(0, 0, 0.5596330275229358)\n",
      "(0.0, 0, 0.5596330275229358)\n",
      "(0.0024787521766663585, 0, 0.5596330275229358)\n",
      "(0.006737946999085467, 0, 0.5596330275229358)\n",
      "(0.01831563888873418, 0, 0.5688073394495413)\n",
      "(0.03, 0, 0.6055045871559633)\n",
      "(0.049787068367863944, 0, 0.6513761467889908)\n",
      "(0.06, 0, 0.6513761467889908)\n",
      "(0.09, 0, 0.6972477064220184)\n",
      "(0.12, 1, 0.7064220183486238)\n"
     ]
    }
   ],
   "source": [
    "# as lambda, bad, accur\n",
    "for a in aaaaSorted[:10]:\n",
    "    print(a)"
   ]
  },
  {
   "cell_type": "markdown",
   "id": "38ac40be",
   "metadata": {},
   "source": [
    "^ видно, что при переходах около 0.11-0.13 появляется 1 не спам распознанный как спам\n",
    "# ROC"
   ]
  },
  {
   "cell_type": "code",
   "execution_count": 36,
   "id": "bd525de1",
   "metadata": {},
   "outputs": [
    {
     "data": {
      "image/png": "[encoded data removed]",
      "text/plain": [
       "<Figure size 1080x288 with 1 Axes>"
      ]
     },
     "metadata": {},
     "output_type": "display_data"
    }
   ],
   "source": [
    "plt.figure(figsize=(15,4))\n",
    "plt.xlabel('FPR')\n",
    "plt.ylabel('TPR')\n",
    "fpr, tpr = zip(*sorted(zip(fpr, tpr)))\n",
    "plt.plot(fpr, tpr)\n",
    "plt.show();"
   ]
  }
 ],
 "metadata": {
  "kernelspec": {
   "display_name": "Python 3 (ipykernel)",
   "language": "python",
   "name": "python3"
  },
  "language_info": {
   "codemirror_mode": {
    "name": "ipython",
    "version": 3
   },
   "file_extension": ".py",
   "mimetype": "text/x-python",
   "name": "python",
   "nbconvert_exporter": "python",
   "pygments_lexer": "ipython3",
   "version": "3.9.5"
  }
 },
 "nbformat": 4,
 "nbformat_minor": 5
}
