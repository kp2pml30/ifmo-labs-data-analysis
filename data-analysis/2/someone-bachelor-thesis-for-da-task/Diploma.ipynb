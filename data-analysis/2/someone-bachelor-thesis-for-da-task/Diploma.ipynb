{
 "cells": [
  {
   "cell_type": "code",
   "execution_count": 1,
   "metadata": {},
   "outputs": [],
   "source": [
    "import numpy as np\n",
    "import pandas as pd\n",
    "from thesis import *"
   ]
  },
  {
   "cell_type": "code",
   "execution_count": 2,
   "metadata": {},
   "outputs": [
    {
     "name": "stdout",
     "output_type": "stream",
     "text": [
      "[1 0 0 1 0]\n",
      "['Ok lar Joking wif u oni']\n",
      "5575 5575\n"
     ]
    }
   ],
   "source": [
    "with open(u\".\\spam.csv\") as f:\n",
    "    lines = f.readlines()\n",
    "X = []\n",
    "y = []\n",
    "for line in lines:\n",
    "    if line[0] == 'h':\n",
    "        y.append(0)\n",
    "        string = line[4 : len(line) - 4]\n",
    "        ss = ''\n",
    "        for s in string:\n",
    "            if s == ' ' or (ord(s) >= ord('a') and ord(s) <= ord('z')) or (ord(s) >= ord('A') and ord(s) <= ord('Z')):\n",
    "                ss += s\n",
    "        X.append(ss)\n",
    "    else:\n",
    "        y.append(1)\n",
    "        string = line[5 : len(line) - 4]\n",
    "        ss = ''\n",
    "        for s in string:\n",
    "            if s == ' ' or (ord(s) >= ord('a') and ord(s) <= ord('z')) or (ord(s) >= ord('A') and ord(s) <= ord('Z')):\n",
    "                ss += s\n",
    "        X.append(ss)\n",
    "y = np.array(y)\n",
    "print (y[ : 5])\n",
    "print (X[2 : 3])\n",
    "print (len(X), len(y))"
   ]
  },
  {
   "cell_type": "code",
   "execution_count": 3,
   "metadata": {},
   "outputs": [
    {
     "data": {
      "text/plain": [
       "(5575, 8605)"
      ]
     },
     "execution_count": 3,
     "metadata": {},
     "output_type": "execute_result"
    }
   ],
   "source": [
    "from sklearn.feature_extraction.text import CountVectorizer\n",
    "count_vect = CountVectorizer()\n",
    "X_train = count_vect.fit_transform(X)\n",
    "X_train.shape"
   ]
  },
  {
   "cell_type": "code",
   "execution_count": 4,
   "metadata": {},
   "outputs": [
    {
     "data": {
      "text/plain": [
       "(5575, 8605)"
      ]
     },
     "execution_count": 4,
     "metadata": {},
     "output_type": "execute_result"
    }
   ],
   "source": [
    "from sklearn.feature_extraction.text import TfidfTransformer\n",
    "tf_transformer = TfidfTransformer(use_idf=False).fit(X_train)\n",
    "X_train_tf = tf_transformer.transform(X_train)\n",
    "X_train_tf.shape\n",
    "tfidf_transformer = TfidfTransformer()\n",
    "X_train_tfidf = tfidf_transformer.fit_transform(X_train)\n",
    "X_train_tfidf.shape"
   ]
  },
  {
   "cell_type": "code",
   "execution_count": 5,
   "metadata": {},
   "outputs": [
    {
     "name": "stdout",
     "output_type": "stream",
     "text": [
      "  (0, 8347)\t0.22473179099275264\n",
      "  (0, 8093)\t0.18581311333002104\n",
      "  (0, 7841)\t0.22960295284924395\n",
      "  (0, 7404)\t0.16172359018914664\n",
      "  (0, 5548)\t0.2548886331714157\n",
      "  (0, 5131)\t0.15627437346164308\n",
      "  (0, 3936)\t0.26716298074304856\n",
      "  (0, 3780)\t0.3258745122814397\n",
      "  (0, 3492)\t0.10740004091885813\n",
      "  (0, 2969)\t0.18138592683933122\n",
      "  (0, 2930)\t0.15278163920465293\n",
      "  (0, 2873)\t0.1473400121007295\n",
      "  (0, 1567)\t0.2523718059493552\n",
      "  (0, 1284)\t0.2753031516370962\n",
      "  (0, 952)\t0.2753031516370962\n",
      "  (0, 950)\t0.3110833374877464\n",
      "  (0, 491)\t0.24780591387099948\n",
      "  (0, 249)\t0.3258745122814397\n"
     ]
    }
   ],
   "source": [
    "data = X_train_tfidf\n",
    "print (data[1 : 2])"
   ]
  },
  {
   "cell_type": "code",
   "execution_count": 6,
   "metadata": {},
   "outputs": [],
   "source": [
    "from sklearn.model_selection import train_test_split\n",
    "X_train, X_test, y_train, y_test = train_test_split(data, y, test_size = 0.3, random_state = 11)"
   ]
  },
  {
   "cell_type": "code",
   "execution_count": 7,
   "metadata": {},
   "outputs": [],
   "source": [
    "def make_worker(*args):\n",
    "    return Worker(X_train, X_test, y_train, y_test, *args)\n",
    "\n",
    "results = []"
   ]
  },
  {
   "cell_type": "code",
   "execution_count": 8,
   "metadata": {},
   "outputs": [
    {
     "data": {
      "image/png": "[encoded data removed]",
      "text/plain": [
       "<Figure size 432x288 with 1 Axes>"
      ]
     },
     "metadata": {
      "needs_background": "light"
     },
     "output_type": "display_data"
    },
    {
     "name": "stdout",
     "output_type": "stream",
     "text": [
      "Best k =  15\n",
      "Best score =  0.9615571752191471\n",
      "classifier \t =  knn\n",
      "False positive error \t =  0.001195457262402869\n",
      "True negative error \t =  0.04064554692169755\n",
      "False negative \t =  0.9986225895316805\n",
      "True positive \t =  0.6923076923076923\n",
      "TIME \t =  0:00:00.298994\n"
     ]
    }
   ],
   "source": [
    "import time\n",
    "import datetime\n",
    "from sklearn.neighbors import KNeighborsClassifier\n",
    "import matplotlib.pyplot as plt\n",
    "\n",
    "results.append(make_worker(range(2, 20), lambda k: KNeighborsClassifier(n_neighbors=k)).all_in_one(\"knn\"))"
   ]
  },
  {
   "cell_type": "code",
   "execution_count": 9,
   "metadata": {},
   "outputs": [
    {
     "name": "stderr",
     "output_type": "stream",
     "text": [
      "x:\\python39\\lib\\site-packages\\sklearn\\naive_bayes.py:555: UserWarning: alpha too small will result in numeric errors, setting alpha = 1.0e-10\n",
      "  warnings.warn(\n",
      "x:\\python39\\lib\\site-packages\\sklearn\\naive_bayes.py:555: UserWarning: alpha too small will result in numeric errors, setting alpha = 1.0e-10\n",
      "  warnings.warn(\n",
      "x:\\python39\\lib\\site-packages\\sklearn\\naive_bayes.py:555: UserWarning: alpha too small will result in numeric errors, setting alpha = 1.0e-10\n",
      "  warnings.warn(\n",
      "x:\\python39\\lib\\site-packages\\sklearn\\naive_bayes.py:555: UserWarning: alpha too small will result in numeric errors, setting alpha = 1.0e-10\n",
      "  warnings.warn(\n",
      "x:\\python39\\lib\\site-packages\\sklearn\\naive_bayes.py:555: UserWarning: alpha too small will result in numeric errors, setting alpha = 1.0e-10\n",
      "  warnings.warn(\n"
     ]
    },
    {
     "data": {
      "image/png": "[encoded data removed]",
      "text/plain": [
       "<Figure size 432x288 with 1 Axes>"
      ]
     },
     "metadata": {
      "needs_background": "light"
     },
     "output_type": "display_data"
    },
    {
     "name": "stdout",
     "output_type": "stream",
     "text": [
      "Best k =  0.2\n",
      "Best score =  0.9746291736432582\n",
      "classifier \t =  MultinomialNB\n",
      "False positive error \t =  0.010161386730424387\n",
      "True negative error \t =  0.016138673042438732\n",
      "False negative \t =  0.9882920110192838\n",
      "True positive \t =  0.8778280542986425\n",
      "TIME \t =  0:00:00.006999\n"
     ]
    }
   ],
   "source": [
    "from sklearn.naive_bayes import MultinomialNB\n",
    "\n",
    "C = config['MultinomialNB']\n",
    "results.append(\n",
    "    make_worker(C, lambda k: MultinomialNB(alpha=k, class_prior=None, fit_prior=True))\n",
    "        .all_in_one(\"MultinomialNB\"))"
   ]
  },
  {
   "cell_type": "code",
   "execution_count": 10,
   "metadata": {},
   "outputs": [
    {
     "data": {
      "image/png": "[encoded data removed]",
      "text/plain": [
       "<Figure size 432x288 with 1 Axes>"
      ]
     },
     "metadata": {
      "needs_background": "light"
     },
     "output_type": "display_data"
    },
    {
     "name": "stdout",
     "output_type": "stream",
     "text": [
      "Best k =  10\n",
      "Best score =  0.9743730916970353\n",
      "classifier \t =  LogisticRegression\n",
      "False positive error \t =  0.0\n",
      "True negative error \t =  0.024506873879258817\n",
      "False negative \t =  1.0\n",
      "True positive \t =  0.8144796380090498\n",
      "TIME \t =  0:00:00.136993\n"
     ]
    }
   ],
   "source": [
    "from sklearn.linear_model import LogisticRegression\n",
    "\n",
    "C = config['LogisticRegression']\n",
    "\n",
    "results.append(\n",
    "    make_worker(C, lambda k: LogisticRegression(C=k))\n",
    "        .all_in_one(\"LogisticRegression\"))"
   ]
  },
  {
   "cell_type": "code",
   "execution_count": 11,
   "metadata": {},
   "outputs": [
    {
     "data": {
      "image/png": "[encoded data removed]",
      "text/plain": [
       "<Figure size 432x288 with 1 Axes>"
      ]
     },
     "metadata": {
      "needs_background": "light"
     },
     "output_type": "display_data"
    },
    {
     "name": "stdout",
     "output_type": "stream",
     "text": [
      "Best k =  47\n",
      "Best score =  0.961812600544995\n",
      "classifier \t =  DecisionTreeClassifier\n",
      "False positive error \t =  0.017931858936043037\n",
      "True negative error \t =  0.02510460251046025\n",
      "False negative \t =  0.9793388429752066\n",
      "True positive \t =  0.8099547511312217\n",
      "TIME \t =  0:00:00.267050\n"
     ]
    }
   ],
   "source": [
    "from sklearn.tree import DecisionTreeClassifier\n",
    "\n",
    "C = np.arange(2, 50, 5)\n",
    "\n",
    "results.append(\n",
    "    make_worker(C, lambda k: DecisionTreeClassifier(max_depth=k))\n",
    "        .all_in_one(\"DecisionTreeClassifier\"))"
   ]
  },
  {
   "cell_type": "code",
   "execution_count": null,
   "metadata": {},
   "outputs": [],
   "source": [
    "from sklearn.svm import SVC\n",
    "\n",
    "C = config['SVC']\n",
    "\n",
    "results.append(\n",
    "    make_worker(C, lambda k: SVC(kernel=k))\n",
    "        .all_in_one(\"SVC\"))\n"
   ]
  },
  {
   "cell_type": "markdown",
   "metadata": {},
   "source": [
    "Такого не было даже в дипломе...."
   ]
  },
  {
   "cell_type": "code",
   "execution_count": null,
   "metadata": {},
   "outputs": [],
   "source": [
    "df = pd.DataFrame(columns=columns)\n",
    "for i in range(len(results)):\n",
    "    df.loc[i] = results[i]\n",
    "df"
   ]
  },
  {
   "cell_type": "code",
   "execution_count": null,
   "metadata": {},
   "outputs": [],
   "source": []
  },
  {
   "cell_type": "code",
   "execution_count": null,
   "metadata": {},
   "outputs": [],
   "source": []
  }
 ],
 "metadata": {
  "kernelspec": {
   "display_name": "Python 3 (ipykernel)",
   "language": "python",
   "name": "python3"
  },
  "language_info": {
   "codemirror_mode": {
    "name": "ipython",
    "version": 3
   },
   "file_extension": ".py",
   "mimetype": "text/x-python",
   "name": "python",
   "nbconvert_exporter": "python",
   "pygments_lexer": "ipython3",
   "version": "3.9.5"
  }
 },
 "nbformat": 4,
 "nbformat_minor": 2
}
